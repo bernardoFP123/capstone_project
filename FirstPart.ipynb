{
 "cells": [
  {
   "cell_type": "code",
   "execution_count": 12,
   "metadata": {},
   "outputs": [],
   "source": [
    "#!pip install bs4\n",
    "#!pip install requests\n",
    "#!pip install lxml"
   ]
  },
  {
   "cell_type": "code",
   "execution_count": 3,
   "metadata": {},
   "outputs": [],
   "source": [
    "from bs4 import BeautifulSoup as bs\n",
    "from requests import get\n",
    "import pandas as pd"
   ]
  },
  {
   "cell_type": "code",
   "execution_count": 95,
   "metadata": {},
   "outputs": [],
   "source": [
    "response = get('https://en.wikipedia.org/wiki/List_of_postal_codes_of_Canada:_M')\n",
    "pagina_web = response.content\n",
    "sopa = bs(pagina_web)"
   ]
  },
  {
   "cell_type": "code",
   "execution_count": 96,
   "metadata": {},
   "outputs": [],
   "source": [
    "html_tabla = sopa.find('table', attrs={'class': 'wikitable'})"
   ]
  },
  {
   "cell_type": "code",
   "execution_count": 97,
   "metadata": {},
   "outputs": [],
   "source": [
    "dfs = pd.read_html(pagina_web)"
   ]
  },
  {
   "cell_type": "code",
   "execution_count": 98,
   "metadata": {},
   "outputs": [],
   "source": [
    "tabla_municipios = dfs[0]"
   ]
  },
  {
   "cell_type": "code",
   "execution_count": 99,
   "metadata": {},
   "outputs": [],
   "source": [
    "indexNames = tabla_municipios[ tabla_municipios['Borough'] == 'Not assigned' ].index\n",
    "tabla_municipios_sin_cosas = tabla_municipios.drop(indexNames)"
   ]
  },
  {
   "cell_type": "code",
   "execution_count": 100,
   "metadata": {},
   "outputs": [
    {
     "name": "stdout",
     "output_type": "stream",
     "text": [
      "  Postcode           Borough     Neighbourhood\n",
      "2      M3A        North York         Parkwoods\n",
      "3      M4A        North York  Victoria Village\n",
      "4      M5A  Downtown Toronto      Harbourfront\n",
      "5      M6A        North York  Lawrence Heights\n",
      "6      M6A        North York    Lawrence Manor\n",
      "(210, 3)\n"
     ]
    }
   ],
   "source": [
    "print(tabla_municipios_sin_cosas.head())\n",
    "print(tabla_municipios_sin_cosas.shape)"
   ]
  },
  {
   "cell_type": "code",
   "execution_count": 101,
   "metadata": {},
   "outputs": [],
   "source": [
    "tabla_municipios_sin_cosas.head()\n",
    "grupos = tabla_municipios_sin_cosas.groupby(['Postcode', 'Borough'],)\n",
    "\n",
    "salida = grupos['Neighbourhood'].apply(lambda x: ', '.join(list(x)),)\n"
   ]
  },
  {
   "cell_type": "code",
   "execution_count": 102,
   "metadata": {},
   "outputs": [
    {
     "name": "stdout",
     "output_type": "stream",
     "text": [
      "(103, 3)\n"
     ]
    }
   ],
   "source": [
    "df_agrupado = salida.to_frame().reset_index()\n",
    "df_agrupado.columns = ['Postcode', 'Borough', 'Neighbourhood']\n",
    "print(df_agrupado.shape)"
   ]
  },
  {
   "cell_type": "code",
   "execution_count": 105,
   "metadata": {},
   "outputs": [],
   "source": [
    "#type(salida)\n",
    "def asignar_vecindario(row):\n",
    "    if row['Neighbourhood'] == 'Not assigned':\n",
    "        return row['Borough']\n",
    "    else:\n",
    "        return row['Neighbourhood']\n",
    "    \n",
    "columna_nueva = df_agrupado.apply(asignar_vecindario, axis=1)\n",
    "\n",
    "df_final = df_agrupado.assign(Neighbourhood=columna_nueva.values)\n"
   ]
  },
  {
   "cell_type": "code",
   "execution_count": 109,
   "metadata": {},
   "outputs": [
    {
     "name": "stdout",
     "output_type": "stream",
     "text": [
      "   Postcode       Borough Neighbourhood\n",
      "93      M9A  Queen's Park  Not assigned\n",
      "Empty DataFrame\n",
      "Columns: [Postcode, Borough, Neighbourhood]\n",
      "Index: []\n",
      "   Postcode       Borough Neighbourhood\n",
      "93      M9A  Queen's Park  Queen's Park\n"
     ]
    }
   ],
   "source": [
    "print(df_agrupado[df_agrupado['Neighbourhood'] == 'Not assigned'])\n",
    "print(df_final[df_final['Neighbourhood'] == 'Not assigned'])\n",
    "print(df_final[df_final['Postcode'] == 'M9A'])"
   ]
  },
  {
   "cell_type": "code",
   "execution_count": 110,
   "metadata": {},
   "outputs": [
    {
     "data": {
      "text/plain": [
       "(103, 3)"
      ]
     },
     "execution_count": 110,
     "metadata": {},
     "output_type": "execute_result"
    }
   ],
   "source": [
    "df_final.shape"
   ]
  },
  {
   "cell_type": "code",
   "execution_count": null,
   "metadata": {},
   "outputs": [],
   "source": []
  }
 ],
 "metadata": {
  "kernelspec": {
   "display_name": "Python",
   "language": "python",
   "name": "conda-env-python-py"
  },
  "language_info": {
   "codemirror_mode": {
    "name": "ipython",
    "version": 3
   },
   "file_extension": ".py",
   "mimetype": "text/x-python",
   "name": "python",
   "nbconvert_exporter": "python",
   "pygments_lexer": "ipython3",
   "version": "3.6.7"
  }
 },
 "nbformat": 4,
 "nbformat_minor": 4
}
